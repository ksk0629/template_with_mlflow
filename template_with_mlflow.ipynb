{
  "nbformat": 4,
  "nbformat_minor": 0,
  "metadata": {
    "colab": {
      "name": "template_with_mlflow.ipynb",
      "provenance": [],
      "collapsed_sections": [],
      "authorship_tag": "ABX9TyOR2rV7ZGRSgvfZv/3cm9zD",
      "include_colab_link": true
    },
    "kernelspec": {
      "name": "python3",
      "display_name": "Python 3"
    },
    "language_info": {
      "name": "python"
    },
    "accelerator": "GPU"
  },
  "cells": [
    {
      "cell_type": "markdown",
      "metadata": {
        "id": "view-in-github",
        "colab_type": "text"
      },
      "source": [
        "<a href=\"https://colab.research.google.com/github/ksk0629/template_with_mlflow/blob/develop/template_with_mlflow.ipynb\" target=\"_parent\"><img src=\"https://colab.research.google.com/assets/colab-badge.svg\" alt=\"Open In Colab\"/></a>"
      ]
    },
    {
      "cell_type": "markdown",
      "source": [
        "# Template with MLflow\n",
        "- git repository: https://github.com/ksk0629/template_with_mlflow.git\n",
        "- References\n",
        "  - https://fight-tsk.blogspot.com/2021/07/mlflow-ui-google-colaboratory.html\n",
        "  - https://qiita.com/Suguru_Toyohara/items/fd495516237b0b395768\n",
        "  - https://ymym3412.hatenablog.com/entry/2020/02/09/034644\n",
        "  - https://tmyoda.hatenablog.com/entry/20210422/1619085282\n",
        "  - https://qiita.com/mininobu/items/b45dbc70faedf30f484e\n",
        "  - https://qiita.com/Suguru_Toyohara/items/fd495516237b0b395768\n",
        "  - https://stackoverflow.com/questions/61615818/setting-up-mlflow-on-google-colab\n",
        "  - https://qiita.com/kurilab/items/f6f4374d7b1980060de7\n",
        "  - https://stackoverflow.com/questions/61424599/error-when-pushing-files-to-git-in-colab-fatal-could-not-read-username-for-ht"
      ],
      "metadata": {
        "id": "aQcyI0By8EwS"
      }
    },
    {
      "cell_type": "code",
      "source": [
        "# Install MLflow and tool for using MLflow on google colabratory notebook\n",
        "!pip install mlflow\n",
        "!pip install pyngrok"
      ],
      "metadata": {
        "colab": {
          "base_uri": "https://localhost:8080/"
        },
        "id": "S-mM-gkLEU3V",
        "outputId": "6b53c796-549a-42bb-d104-3d20099b61dd"
      },
      "execution_count": null,
      "outputs": [
        {
          "output_type": "stream",
          "name": "stdout",
          "text": [
            "Collecting mlflow\n",
            "  Downloading mlflow-1.23.1-py3-none-any.whl (15.6 MB)\n",
            "\u001b[K     |████████████████████████████████| 15.6 MB 8.8 MB/s \n",
            "\u001b[?25hCollecting docker>=4.0.0\n",
            "  Downloading docker-5.0.3-py2.py3-none-any.whl (146 kB)\n",
            "\u001b[K     |████████████████████████████████| 146 kB 50.5 MB/s \n",
            "\u001b[?25hCollecting gunicorn\n",
            "  Downloading gunicorn-20.1.0-py3-none-any.whl (79 kB)\n",
            "\u001b[K     |████████████████████████████████| 79 kB 6.9 MB/s \n",
            "\u001b[?25hRequirement already satisfied: pandas in /usr/local/lib/python3.7/dist-packages (from mlflow) (1.1.5)\n",
            "Requirement already satisfied: cloudpickle in /usr/local/lib/python3.7/dist-packages (from mlflow) (1.3.0)\n",
            "Requirement already satisfied: Flask in /usr/local/lib/python3.7/dist-packages (from mlflow) (1.1.4)\n",
            "Requirement already satisfied: click>=7.0 in /usr/local/lib/python3.7/dist-packages (from mlflow) (7.1.2)\n",
            "Requirement already satisfied: scipy in /usr/local/lib/python3.7/dist-packages (from mlflow) (1.4.1)\n",
            "Requirement already satisfied: entrypoints in /usr/local/lib/python3.7/dist-packages (from mlflow) (0.3)\n",
            "Requirement already satisfied: packaging in /usr/local/lib/python3.7/dist-packages (from mlflow) (21.3)\n",
            "Collecting alembic\n",
            "  Downloading alembic-1.7.5-py3-none-any.whl (209 kB)\n",
            "\u001b[K     |████████████████████████████████| 209 kB 52.1 MB/s \n",
            "\u001b[?25hRequirement already satisfied: importlib-metadata!=4.7.0,>=3.7.0 in /usr/local/lib/python3.7/dist-packages (from mlflow) (4.10.1)\n",
            "Collecting gitpython>=2.1.0\n",
            "  Downloading GitPython-3.1.26-py3-none-any.whl (180 kB)\n",
            "\u001b[K     |████████████████████████████████| 180 kB 51.2 MB/s \n",
            "\u001b[?25hCollecting prometheus-flask-exporter\n",
            "  Downloading prometheus_flask_exporter-0.18.7-py3-none-any.whl (17 kB)\n",
            "Requirement already satisfied: protobuf>=3.7.0 in /usr/local/lib/python3.7/dist-packages (from mlflow) (3.17.3)\n",
            "Collecting pyyaml>=5.1\n",
            "  Downloading PyYAML-6.0-cp37-cp37m-manylinux_2_5_x86_64.manylinux1_x86_64.manylinux_2_12_x86_64.manylinux2010_x86_64.whl (596 kB)\n",
            "\u001b[K     |████████████████████████████████| 596 kB 46.5 MB/s \n",
            "\u001b[?25hCollecting databricks-cli>=0.8.7\n",
            "  Downloading databricks-cli-0.16.2.tar.gz (58 kB)\n",
            "\u001b[K     |████████████████████████████████| 58 kB 5.3 MB/s \n",
            "\u001b[?25hRequirement already satisfied: sqlalchemy in /usr/local/lib/python3.7/dist-packages (from mlflow) (1.4.31)\n",
            "Requirement already satisfied: pytz in /usr/local/lib/python3.7/dist-packages (from mlflow) (2018.9)\n",
            "Collecting querystring-parser\n",
            "  Downloading querystring_parser-1.2.4-py2.py3-none-any.whl (7.9 kB)\n",
            "Requirement already satisfied: numpy in /usr/local/lib/python3.7/dist-packages (from mlflow) (1.19.5)\n",
            "Requirement already satisfied: requests>=2.17.3 in /usr/local/lib/python3.7/dist-packages (from mlflow) (2.23.0)\n",
            "Requirement already satisfied: sqlparse>=0.3.1 in /usr/local/lib/python3.7/dist-packages (from mlflow) (0.4.2)\n",
            "Requirement already satisfied: tabulate>=0.7.7 in /usr/local/lib/python3.7/dist-packages (from databricks-cli>=0.8.7->mlflow) (0.8.9)\n",
            "Requirement already satisfied: six>=1.10.0 in /usr/local/lib/python3.7/dist-packages (from databricks-cli>=0.8.7->mlflow) (1.15.0)\n",
            "Collecting websocket-client>=0.32.0\n",
            "  Downloading websocket_client-1.2.3-py3-none-any.whl (53 kB)\n",
            "\u001b[K     |████████████████████████████████| 53 kB 1.7 MB/s \n",
            "\u001b[?25hCollecting gitdb<5,>=4.0.1\n",
            "  Downloading gitdb-4.0.9-py3-none-any.whl (63 kB)\n",
            "\u001b[K     |████████████████████████████████| 63 kB 1.6 MB/s \n",
            "\u001b[?25hRequirement already satisfied: typing-extensions>=3.7.4.3 in /usr/local/lib/python3.7/dist-packages (from gitpython>=2.1.0->mlflow) (3.10.0.2)\n",
            "Collecting smmap<6,>=3.0.1\n",
            "  Downloading smmap-5.0.0-py3-none-any.whl (24 kB)\n",
            "Requirement already satisfied: zipp>=0.5 in /usr/local/lib/python3.7/dist-packages (from importlib-metadata!=4.7.0,>=3.7.0->mlflow) (3.7.0)\n",
            "Requirement already satisfied: urllib3!=1.25.0,!=1.25.1,<1.26,>=1.21.1 in /usr/local/lib/python3.7/dist-packages (from requests>=2.17.3->mlflow) (1.24.3)\n",
            "Requirement already satisfied: idna<3,>=2.5 in /usr/local/lib/python3.7/dist-packages (from requests>=2.17.3->mlflow) (2.10)\n",
            "Requirement already satisfied: certifi>=2017.4.17 in /usr/local/lib/python3.7/dist-packages (from requests>=2.17.3->mlflow) (2021.10.8)\n",
            "Requirement already satisfied: chardet<4,>=3.0.2 in /usr/local/lib/python3.7/dist-packages (from requests>=2.17.3->mlflow) (3.0.4)\n",
            "Collecting Mako\n",
            "  Downloading Mako-1.1.6-py2.py3-none-any.whl (75 kB)\n",
            "\u001b[K     |████████████████████████████████| 75 kB 4.1 MB/s \n",
            "\u001b[?25hRequirement already satisfied: importlib-resources in /usr/local/lib/python3.7/dist-packages (from alembic->mlflow) (5.4.0)\n",
            "Requirement already satisfied: greenlet!=0.4.17 in /usr/local/lib/python3.7/dist-packages (from sqlalchemy->mlflow) (1.1.2)\n",
            "Requirement already satisfied: Werkzeug<2.0,>=0.15 in /usr/local/lib/python3.7/dist-packages (from Flask->mlflow) (1.0.1)\n",
            "Requirement already satisfied: Jinja2<3.0,>=2.10.1 in /usr/local/lib/python3.7/dist-packages (from Flask->mlflow) (2.11.3)\n",
            "Requirement already satisfied: itsdangerous<2.0,>=0.24 in /usr/local/lib/python3.7/dist-packages (from Flask->mlflow) (1.1.0)\n",
            "Requirement already satisfied: MarkupSafe>=0.23 in /usr/local/lib/python3.7/dist-packages (from Jinja2<3.0,>=2.10.1->Flask->mlflow) (2.0.1)\n",
            "Requirement already satisfied: setuptools>=3.0 in /usr/local/lib/python3.7/dist-packages (from gunicorn->mlflow) (57.4.0)\n",
            "Requirement already satisfied: pyparsing!=3.0.5,>=2.0.2 in /usr/local/lib/python3.7/dist-packages (from packaging->mlflow) (3.0.7)\n",
            "Requirement already satisfied: python-dateutil>=2.7.3 in /usr/local/lib/python3.7/dist-packages (from pandas->mlflow) (2.8.2)\n",
            "Requirement already satisfied: prometheus-client in /usr/local/lib/python3.7/dist-packages (from prometheus-flask-exporter->mlflow) (0.12.0)\n",
            "Building wheels for collected packages: databricks-cli\n",
            "  Building wheel for databricks-cli (setup.py) ... \u001b[?25l\u001b[?25hdone\n",
            "  Created wheel for databricks-cli: filename=databricks_cli-0.16.2-py3-none-any.whl size=106811 sha256=642e8e6609c03bd3d4e45022a97e47336f749161bb2da5892554d5ffe934de96\n",
            "  Stored in directory: /root/.cache/pip/wheels/f4/5c/ed/e1ce20a53095f63b27b4964abbad03e59cf3472822addf7d29\n",
            "Successfully built databricks-cli\n",
            "Installing collected packages: smmap, websocket-client, Mako, gitdb, querystring-parser, pyyaml, prometheus-flask-exporter, gunicorn, gitpython, docker, databricks-cli, alembic, mlflow\n",
            "  Attempting uninstall: pyyaml\n",
            "    Found existing installation: PyYAML 3.13\n",
            "    Uninstalling PyYAML-3.13:\n",
            "      Successfully uninstalled PyYAML-3.13\n",
            "Successfully installed Mako-1.1.6 alembic-1.7.5 databricks-cli-0.16.2 docker-5.0.3 gitdb-4.0.9 gitpython-3.1.26 gunicorn-20.1.0 mlflow-1.23.1 prometheus-flask-exporter-0.18.7 pyyaml-6.0 querystring-parser-1.2.4 smmap-5.0.0 websocket-client-1.2.3\n",
            "Collecting pyngrok\n",
            "  Downloading pyngrok-5.1.0.tar.gz (745 kB)\n",
            "\u001b[K     |████████████████████████████████| 745 kB 10.6 MB/s \n",
            "\u001b[?25hRequirement already satisfied: PyYAML in /usr/local/lib/python3.7/dist-packages (from pyngrok) (6.0)\n",
            "Building wheels for collected packages: pyngrok\n",
            "  Building wheel for pyngrok (setup.py) ... \u001b[?25l\u001b[?25hdone\n",
            "  Created wheel for pyngrok: filename=pyngrok-5.1.0-py3-none-any.whl size=19007 sha256=5d9fbe4743deec51fa6fe7027da710b0a9aa5b515bd06e4b71e49aa85123e940\n",
            "  Stored in directory: /root/.cache/pip/wheels/bf/e6/af/ccf6598ecefecd44104069371795cb9b3afbcd16987f6ccfb3\n",
            "Successfully built pyngrok\n",
            "Installing collected packages: pyngrok\n",
            "Successfully installed pyngrok-5.1.0\n"
          ]
        }
      ]
    },
    {
      "cell_type": "code",
      "source": [
        "import os\n",
        "from pyngrok import ngrok\n",
        "import yaml"
      ],
      "metadata": {
        "id": "0QEPmCgnETcZ"
      },
      "execution_count": null,
      "outputs": []
    },
    {
      "cell_type": "markdown",
      "source": [
        "## Build cosy environment"
      ],
      "metadata": {
        "id": "kb5hg0BTD8sD"
      }
    },
    {
      "cell_type": "code",
      "source": [
        "# Mount my google drive\n",
        "from google.colab import drive\n",
        "drive_path = \"/content/gdrive\"\n",
        "drive.mount(drive_path)"
      ],
      "metadata": {
        "colab": {
          "base_uri": "https://localhost:8080/"
        },
        "id": "rubYSBpc_J7m",
        "outputId": "22080144-0ab3-4be4-b986-208aa0e2cb86"
      },
      "execution_count": null,
      "outputs": [
        {
          "output_type": "stream",
          "name": "stdout",
          "text": [
            "Mounted at /content/gdrive\n"
          ]
        }
      ]
    },
    {
      "cell_type": "code",
      "source": [
        "# Load general config\n",
        "config_path = os.path.join(drive_path, \"MyDrive\", \"config\", \"general_config.yaml\")\n",
        "with open(config_path, 'r') as yml:\n",
        "  config = yaml.safe_load(yml)\n",
        "\n",
        "config_github = config[\"github\"]\n",
        "config_ngrok = config[\"ngrok\"]"
      ],
      "metadata": {
        "id": "U6_srhIJDjsa"
      },
      "execution_count": null,
      "outputs": []
    },
    {
      "cell_type": "code",
      "source": [
        "# Set git config\n",
        "!git config --global user.email {config_github[\"email\"]}\n",
        "!git config --global user.name {config_github[\"username\"]}\n",
        "\n",
        "# Clone the repository\n",
        "repository_name = \"template_with_mlflow\"\n",
        "git_repository = f\"https://github.com/{config_github[\"username\"]}/\" + repository_name + \".git\"\n",
        "repository_path = \"/content/\" + repository_name\n",
        "!git clone {git_repository}\n",
        "\n",
        "# Change directory to the cloned directory\n",
        "%cd template_with_mlflow"
      ],
      "metadata": {
        "colab": {
          "base_uri": "https://localhost:8080/"
        },
        "id": "96Nsau27DgrT",
        "outputId": "f8e6defc-ee1b-4307-ed1f-ad36914cd15e"
      },
      "execution_count": null,
      "outputs": [
        {
          "output_type": "stream",
          "name": "stdout",
          "text": [
            "Cloning into 'template_with_mlflow'...\n",
            "remote: Enumerating objects: 102, done.\u001b[K\n",
            "remote: Counting objects: 100% (102/102), done.\u001b[K\n",
            "remote: Compressing objects: 100% (66/66), done.\u001b[K\n",
            "remote: Total 102 (delta 19), reused 82 (delta 8), pack-reused 0\u001b[K\n",
            "Receiving objects: 100% (102/102), 5.34 MiB | 18.93 MiB/s, done.\n",
            "Resolving deltas: 100% (19/19), done.\n",
            "/content/template_with_mlflow\n"
          ]
        }
      ]
    },
    {
      "cell_type": "code",
      "source": [
        "# Checkout\n",
        "branch_name = \"develop\"\n",
        "!git checkout {branch_name}"
      ],
      "metadata": {
        "colab": {
          "base_uri": "https://localhost:8080/"
        },
        "id": "g1a3kZbrSyBn",
        "outputId": "1d06d815-8420-43fa-fb5a-953f4c571b58"
      },
      "execution_count": null,
      "outputs": [
        {
          "output_type": "stream",
          "name": "stdout",
          "text": [
            "Branch 'develop' set up to track remote branch 'develop' from 'origin'.\n",
            "Switched to a new branch 'develop'\n"
          ]
        }
      ]
    },
    {
      "cell_type": "code",
      "source": [
        "# Pull\n",
        "!git pull"
      ],
      "metadata": {
        "colab": {
          "base_uri": "https://localhost:8080/"
        },
        "id": "gOo05lwqT3Vz",
        "outputId": "1da1a376-2fe5-4374-b3d3-c5973015f1f1"
      },
      "execution_count": null,
      "outputs": [
        {
          "output_type": "stream",
          "name": "stdout",
          "text": [
            "Already up to date.\n"
          ]
        }
      ]
    },
    {
      "cell_type": "markdown",
      "source": [
        "## Run program with MLflow"
      ],
      "metadata": {
        "id": "Go8FD44hE8E6"
      }
    },
    {
      "cell_type": "code",
      "source": [
        "run_name = \"first run\"\n",
        "validation_size = 0.2\n",
        "epochs = 1000\n",
        "batch_size = 2048\n",
        "n_features = 784\n",
        "n_hidden = 100\n",
        "bias_init = 0.1\n",
        "learning_rate = 0.01\n",
        "seed = 57\n",
        "\n",
        "!python ./src/mlflow_example.py \"{run_name}\" {validation_size} {epochs} {batch_size} {n_features} {n_hidden} {bias_init} {learning_rate} {seed}"
      ],
      "metadata": {
        "colab": {
          "base_uri": "https://localhost:8080/"
        },
        "id": "l1aTzuHkTMv1",
        "outputId": "24f90ac6-fbe5-4e8c-a227-bacf49f8c82b"
      },
      "execution_count": null,
      "outputs": [
        {
          "output_type": "stream",
          "name": "stdout",
          "text": [
            "2022/01/28 00:24:58 INFO mlflow.tracking.fluent: Experiment with name 'CNN' does not exist. Creating a new experiment.\n",
            "/usr/local/lib/python3.7/dist-packages/mlflow/utils/autologging_utils/__init__.py:410: FutureWarning: Autologging support for keras >= 2.6.0 has been deprecated and will be removed in a future MLflow release. Use `mlflow.tensorflow.autolog()` instead.\n",
            "  return _autolog(*args, **kwargs)\n",
            "Downloading data from https://storage.googleapis.com/tensorflow/tf-keras-datasets/mnist.npz\n",
            "11493376/11490434 [==============================] - 0s 0us/step\n",
            "11501568/11490434 [==============================] - 0s 0us/step\n",
            "2022-01-28 00:25:02.498806: W tensorflow/core/common_runtime/gpu/gpu_bfc_allocator.cc:39] Overriding allow_growth setting because the TF_FORCE_GPU_ALLOW_GROWTH environment variable is set. Original config value was 0.\n",
            "Epoch 1/1000\n",
            "24/24 [==============================] - 3s 20ms/step - loss: 0.7457 - mae: 0.0673 - accuracy: 0.7581 - val_loss: 0.2853 - val_mae: 0.0263 - val_accuracy: 0.9143\n",
            "Epoch 2/1000\n",
            "24/24 [==============================] - 0s 11ms/step - loss: 0.2100 - mae: 0.0201 - accuracy: 0.9361 - val_loss: 0.1722 - val_mae: 0.0164 - val_accuracy: 0.9463\n",
            "Epoch 3/1000\n",
            "24/24 [==============================] - 0s 10ms/step - loss: 0.1335 - mae: 0.0131 - accuracy: 0.9596 - val_loss: 0.1334 - val_mae: 0.0121 - val_accuracy: 0.9582\n",
            "Epoch 4/1000\n",
            "24/24 [==============================] - 0s 11ms/step - loss: 0.1027 - mae: 0.0101 - accuracy: 0.9686 - val_loss: 0.1220 - val_mae: 0.0111 - val_accuracy: 0.9631\n",
            "Epoch 5/1000\n",
            "24/24 [==============================] - 0s 10ms/step - loss: 0.0795 - mae: 0.0082 - accuracy: 0.9761 - val_loss: 0.1053 - val_mae: 0.0090 - val_accuracy: 0.9684\n",
            "Epoch 6/1000\n",
            "24/24 [==============================] - 0s 10ms/step - loss: 0.0632 - mae: 0.0065 - accuracy: 0.9807 - val_loss: 0.1196 - val_mae: 0.0095 - val_accuracy: 0.9637\n",
            "Epoch 7/1000\n",
            "24/24 [==============================] - 0s 11ms/step - loss: 0.0526 - mae: 0.0056 - accuracy: 0.9838 - val_loss: 0.1080 - val_mae: 0.0082 - val_accuracy: 0.9677\n",
            "Epoch 8/1000\n",
            "24/24 [==============================] - 0s 9ms/step - loss: 0.0436 - mae: 0.0047 - accuracy: 0.9868 - val_loss: 0.1145 - val_mae: 0.0083 - val_accuracy: 0.9667\n",
            "Epoch 9/1000\n",
            "24/24 [==============================] - 0s 9ms/step - loss: 0.0383 - mae: 0.0042 - accuracy: 0.9876 - val_loss: 0.1096 - val_mae: 0.0076 - val_accuracy: 0.9702\n",
            "Epoch 10/1000\n",
            "24/24 [==============================] - 0s 11ms/step - loss: 0.0337 - mae: 0.0037 - accuracy: 0.9891 - val_loss: 0.1242 - val_mae: 0.0079 - val_accuracy: 0.9666\n",
            "Epoch 11/1000\n",
            "24/24 [==============================] - 0s 11ms/step - loss: 0.0291 - mae: 0.0032 - accuracy: 0.9911 - val_loss: 0.1119 - val_mae: 0.0072 - val_accuracy: 0.9699\n",
            "Epoch 12/1000\n",
            "24/24 [==============================] - 0s 10ms/step - loss: 0.0237 - mae: 0.0027 - accuracy: 0.9924 - val_loss: 0.1175 - val_mae: 0.0069 - val_accuracy: 0.9704\n",
            "Epoch 13/1000\n",
            "24/24 [==============================] - 0s 11ms/step - loss: 0.0226 - mae: 0.0026 - accuracy: 0.9924 - val_loss: 0.1163 - val_mae: 0.0069 - val_accuracy: 0.9707\n",
            "Epoch 14/1000\n",
            "24/24 [==============================] - 0s 10ms/step - loss: 0.0214 - mae: 0.0025 - accuracy: 0.9925 - val_loss: 0.1192 - val_mae: 0.0065 - val_accuracy: 0.9705\n",
            "Epoch 15/1000\n",
            "24/24 [==============================] - 0s 10ms/step - loss: 0.0156 - mae: 0.0019 - accuracy: 0.9949 - val_loss: 0.1174 - val_mae: 0.0062 - val_accuracy: 0.9716\n",
            "Epoch 00015: early stopping\n",
            "2022-01-28 00:25:09.456621: W tensorflow/python/util/util.cc:368] Sets are not currently considered sequences, but this may change in the future, so consider avoiding using them.\n",
            "2022/01/28 00:25:16 WARNING mlflow.utils.requirements_utils: Found jaxlib version (0.1.71+cuda111) contains a local version label (+cuda111). MLflow logged a pip requirement for this package as 'jaxlib==0.1.71' without the local version label to make it installable from PyPI. To specify pip requirements containing local version labels, please use `conda_env` or `pip_requirements`.\n",
            "recision is 0.9788.\n"
          ]
        }
      ]
    },
    {
      "cell_type": "code",
      "source": [
        "run_name = \"second run\"\n",
        "validation_size = 0.2\n",
        "epochs = 1000\n",
        "batch_size = 2048\n",
        "n_features = 784\n",
        "n_hidden = 300\n",
        "bias_init = 0.1\n",
        "learning_rate = 0.01\n",
        "seed = 57\n",
        "\n",
        "!python ./src/mlflow_example.py \"{run_name}\" {validation_size} {epochs} {batch_size} {n_features} {n_hidden} {bias_init} {learning_rate} {seed}"
      ],
      "metadata": {
        "colab": {
          "base_uri": "https://localhost:8080/"
        },
        "id": "kw_ZUVgATTk2",
        "outputId": "2c0d56e6-0acc-463c-999f-7e957e7ad3c2"
      },
      "execution_count": null,
      "outputs": [
        {
          "output_type": "stream",
          "name": "stdout",
          "text": [
            "/usr/local/lib/python3.7/dist-packages/mlflow/utils/autologging_utils/__init__.py:410: FutureWarning: Autologging support for keras >= 2.6.0 has been deprecated and will be removed in a future MLflow release. Use `mlflow.tensorflow.autolog()` instead.\n",
            "  return _autolog(*args, **kwargs)\n",
            "2022-01-28 00:25:29.548956: W tensorflow/core/common_runtime/gpu/gpu_bfc_allocator.cc:39] Overriding allow_growth setting because the TF_FORCE_GPU_ALLOW_GROWTH environment variable is set. Original config value was 0.\n",
            "Epoch 1/1000\n",
            "24/24 [==============================] - 1s 24ms/step - loss: 1.4319 - mae: 0.0988 - accuracy: 0.5878 - val_loss: 0.3729 - val_mae: 0.0320 - val_accuracy: 0.8918\n",
            "Epoch 2/1000\n",
            "24/24 [==============================] - 0s 13ms/step - loss: 0.2409 - mae: 0.0221 - accuracy: 0.9278 - val_loss: 0.1882 - val_mae: 0.0166 - val_accuracy: 0.9437\n",
            "Epoch 3/1000\n",
            "24/24 [==============================] - 0s 14ms/step - loss: 0.1459 - mae: 0.0136 - accuracy: 0.9551 - val_loss: 0.1491 - val_mae: 0.0138 - val_accuracy: 0.9532\n",
            "Epoch 4/1000\n",
            "24/24 [==============================] - 0s 14ms/step - loss: 0.1091 - mae: 0.0104 - accuracy: 0.9666 - val_loss: 0.1284 - val_mae: 0.0111 - val_accuracy: 0.9606\n",
            "Epoch 5/1000\n",
            "24/24 [==============================] - 0s 13ms/step - loss: 0.0779 - mae: 0.0078 - accuracy: 0.9755 - val_loss: 0.1098 - val_mae: 0.0092 - val_accuracy: 0.9667\n",
            "Epoch 6/1000\n",
            "24/24 [==============================] - 0s 14ms/step - loss: 0.0616 - mae: 0.0063 - accuracy: 0.9801 - val_loss: 0.1191 - val_mae: 0.0095 - val_accuracy: 0.9653\n",
            "Epoch 7/1000\n",
            "24/24 [==============================] - 0s 12ms/step - loss: 0.0523 - mae: 0.0055 - accuracy: 0.9831 - val_loss: 0.1094 - val_mae: 0.0080 - val_accuracy: 0.9673\n",
            "Epoch 8/1000\n",
            "24/24 [==============================] - 0s 12ms/step - loss: 0.0424 - mae: 0.0045 - accuracy: 0.9866 - val_loss: 0.1084 - val_mae: 0.0073 - val_accuracy: 0.9703\n",
            "Epoch 9/1000\n",
            "24/24 [==============================] - 0s 12ms/step - loss: 0.0322 - mae: 0.0035 - accuracy: 0.9898 - val_loss: 0.1120 - val_mae: 0.0074 - val_accuracy: 0.9673\n",
            "Epoch 10/1000\n",
            "24/24 [==============================] - 0s 12ms/step - loss: 0.0309 - mae: 0.0033 - accuracy: 0.9900 - val_loss: 0.1236 - val_mae: 0.0076 - val_accuracy: 0.9683\n",
            "Epoch 11/1000\n",
            "24/24 [==============================] - 0s 13ms/step - loss: 0.0283 - mae: 0.0030 - accuracy: 0.9902 - val_loss: 0.1187 - val_mae: 0.0066 - val_accuracy: 0.9720\n",
            "Epoch 12/1000\n",
            "24/24 [==============================] - 0s 12ms/step - loss: 0.0254 - mae: 0.0027 - accuracy: 0.9914 - val_loss: 0.1288 - val_mae: 0.0070 - val_accuracy: 0.9698\n",
            "Epoch 13/1000\n",
            "24/24 [==============================] - 0s 13ms/step - loss: 0.0191 - mae: 0.0021 - accuracy: 0.9939 - val_loss: 0.1264 - val_mae: 0.0067 - val_accuracy: 0.9697\n",
            "Epoch 14/1000\n",
            "24/24 [==============================] - 0s 12ms/step - loss: 0.0188 - mae: 0.0020 - accuracy: 0.9937 - val_loss: 0.1243 - val_mae: 0.0065 - val_accuracy: 0.9703\n",
            "Epoch 15/1000\n",
            "24/24 [==============================] - 0s 13ms/step - loss: 0.0182 - mae: 0.0019 - accuracy: 0.9940 - val_loss: 0.1358 - val_mae: 0.0064 - val_accuracy: 0.9714\n",
            "Epoch 16/1000\n",
            "24/24 [==============================] - 0s 12ms/step - loss: 0.0228 - mae: 0.0022 - accuracy: 0.9925 - val_loss: 0.1361 - val_mae: 0.0070 - val_accuracy: 0.9677\n",
            "Epoch 17/1000\n",
            "24/24 [==============================] - 0s 12ms/step - loss: 0.0194 - mae: 0.0020 - accuracy: 0.9933 - val_loss: 0.1494 - val_mae: 0.0069 - val_accuracy: 0.9679\n",
            "Epoch 18/1000\n",
            "24/24 [==============================] - 0s 13ms/step - loss: 0.0165 - mae: 0.0017 - accuracy: 0.9945 - val_loss: 0.1417 - val_mae: 0.0062 - val_accuracy: 0.9712\n",
            "Epoch 00018: early stopping\n",
            "2022-01-28 00:25:36.751985: W tensorflow/python/util/util.cc:368] Sets are not currently considered sequences, but this may change in the future, so consider avoiding using them.\n",
            "2022/01/28 00:25:43 WARNING mlflow.utils.requirements_utils: Found jaxlib version (0.1.71+cuda111) contains a local version label (+cuda111). MLflow logged a pip requirement for this package as 'jaxlib==0.1.71' without the local version label to make it installable from PyPI. To specify pip requirements containing local version labels, please use `conda_env` or `pip_requirements`.\n",
            "recision is 0.9727.\n"
          ]
        }
      ]
    },
    {
      "cell_type": "markdown",
      "source": [
        "## Run MLflow"
      ],
      "metadata": {
        "id": "rTX-PE9zXoA5"
      }
    },
    {
      "cell_type": "code",
      "source": [
        "# Run MLflow\n",
        "get_ipython().system_raw(\"mlflow ui --port 5000 &\") # run tracking UI in the background\n",
        "\n",
        "# Terminate open tunnels if exist\n",
        "ngrok.kill()\n",
        "\n",
        "# Setting the authtoken of ngrok\n",
        "ngrok.set_auth_token(config_ngrok[\"token\"])\n",
        "\n",
        "# Open an HTTPs tunnel on port 5000 for http://localhost:5000\n",
        "ngrok_tunnel = ngrok.connect(addr=\"5000\", proto=\"http\", bind_tls=True)\n",
        "print(\"MLflow Tracking UI:\", ngrok_tunnel.public_url)"
      ],
      "metadata": {
        "id": "H-yRNGlQZN87",
        "colab": {
          "base_uri": "https://localhost:8080/"
        },
        "outputId": "5949680c-9790-4081-e020-88afc14ebe0d"
      },
      "execution_count": null,
      "outputs": [
        {
          "output_type": "stream",
          "name": "stdout",
          "text": [
            "MLflow Tracking UI: https://f8be-35-247-119-86.ngrok.io\n"
          ]
        }
      ]
    },
    {
      "cell_type": "markdown",
      "source": [
        "## Commit and push new change"
      ],
      "metadata": {
        "id": "tenuUHK0diR4"
      }
    },
    {
      "cell_type": "code",
      "source": [
        "add_objects = os.path.join(repository_path, \"mlruns\", \"*\")\n",
        "!git add {add_objects}"
      ],
      "metadata": {
        "id": "x4pJ2JlDfqZs"
      },
      "execution_count": null,
      "outputs": []
    },
    {
      "cell_type": "code",
      "source": [
        "commit_msg = \"Add new mlruns\"\n",
        "!git commit -m \"{commit_msg}\""
      ],
      "metadata": {
        "colab": {
          "base_uri": "https://localhost:8080/"
        },
        "id": "9AUdQwcBiTWM",
        "outputId": "7023b92e-c4a2-47ad-dd05-9370b199b1f0"
      },
      "execution_count": null,
      "outputs": [
        {
          "output_type": "stream",
          "name": "stdout",
          "text": [
            "[develop f8e74fc] Add new mlruns\n",
            " 100 files changed, 488 insertions(+)\n",
            " create mode 100644 mlruns/0/meta.yaml\n",
            " create mode 100644 mlruns/1/69a69ec7355f4778982e5bbd58ef0257/artifacts/model/MLmodel\n",
            " create mode 100644 mlruns/1/69a69ec7355f4778982e5bbd58ef0257/artifacts/model/conda.yaml\n",
            " create mode 100644 mlruns/1/69a69ec7355f4778982e5bbd58ef0257/artifacts/model/data/keras_module.txt\n",
            " create mode 100644 mlruns/1/69a69ec7355f4778982e5bbd58ef0257/artifacts/model/data/model/keras_metadata.pb\n",
            " create mode 100644 mlruns/1/69a69ec7355f4778982e5bbd58ef0257/artifacts/model/data/model/saved_model.pb\n",
            " create mode 100644 mlruns/1/69a69ec7355f4778982e5bbd58ef0257/artifacts/model/data/model/variables/variables.data-00000-of-00001\n",
            " create mode 100644 mlruns/1/69a69ec7355f4778982e5bbd58ef0257/artifacts/model/data/model/variables/variables.index\n",
            " create mode 100644 mlruns/1/69a69ec7355f4778982e5bbd58ef0257/artifacts/model/data/save_format.txt\n",
            " create mode 100644 mlruns/1/69a69ec7355f4778982e5bbd58ef0257/artifacts/model/requirements.txt\n",
            " create mode 100644 mlruns/1/69a69ec7355f4778982e5bbd58ef0257/artifacts/model_summary.txt\n",
            " create mode 100644 mlruns/1/69a69ec7355f4778982e5bbd58ef0257/meta.yaml\n",
            " create mode 100644 mlruns/1/69a69ec7355f4778982e5bbd58ef0257/metrics/accuracy\n",
            " create mode 100644 mlruns/1/69a69ec7355f4778982e5bbd58ef0257/metrics/loss\n",
            " create mode 100644 mlruns/1/69a69ec7355f4778982e5bbd58ef0257/metrics/mae\n",
            " create mode 100644 mlruns/1/69a69ec7355f4778982e5bbd58ef0257/metrics/stopped_epoch\n",
            " create mode 100644 mlruns/1/69a69ec7355f4778982e5bbd58ef0257/metrics/val_accuracy\n",
            " create mode 100644 mlruns/1/69a69ec7355f4778982e5bbd58ef0257/metrics/val_loss\n",
            " create mode 100644 mlruns/1/69a69ec7355f4778982e5bbd58ef0257/metrics/val_mae\n",
            " create mode 100644 mlruns/1/69a69ec7355f4778982e5bbd58ef0257/params/baseline\n",
            " create mode 100644 mlruns/1/69a69ec7355f4778982e5bbd58ef0257/params/batch_size\n",
            " create mode 100644 mlruns/1/69a69ec7355f4778982e5bbd58ef0257/params/class_weight\n",
            " create mode 100644 mlruns/1/69a69ec7355f4778982e5bbd58ef0257/params/epochs\n",
            " create mode 100644 mlruns/1/69a69ec7355f4778982e5bbd58ef0257/params/epsilon\n",
            " create mode 100644 mlruns/1/69a69ec7355f4778982e5bbd58ef0257/params/initial_epoch\n",
            " create mode 100644 mlruns/1/69a69ec7355f4778982e5bbd58ef0257/params/learning_rate\n",
            " create mode 100644 mlruns/1/69a69ec7355f4778982e5bbd58ef0257/params/max_queue_size\n",
            " create mode 100644 mlruns/1/69a69ec7355f4778982e5bbd58ef0257/params/min_delta\n",
            " create mode 100644 mlruns/1/69a69ec7355f4778982e5bbd58ef0257/params/monitor\n",
            " create mode 100644 mlruns/1/69a69ec7355f4778982e5bbd58ef0257/params/num_layers\n",
            " create mode 100644 mlruns/1/69a69ec7355f4778982e5bbd58ef0257/params/numpy seed\n",
            " create mode 100644 mlruns/1/69a69ec7355f4778982e5bbd58ef0257/params/optimizer_name\n",
            " create mode 100644 mlruns/1/69a69ec7355f4778982e5bbd58ef0257/params/patience\n",
            " create mode 100644 mlruns/1/69a69ec7355f4778982e5bbd58ef0257/params/restore_best_weights\n",
            " create mode 100644 mlruns/1/69a69ec7355f4778982e5bbd58ef0257/params/sample_weight\n",
            " create mode 100644 mlruns/1/69a69ec7355f4778982e5bbd58ef0257/params/shuffle\n",
            " create mode 100644 mlruns/1/69a69ec7355f4778982e5bbd58ef0257/params/steps_per_epoch\n",
            " create mode 100644 mlruns/1/69a69ec7355f4778982e5bbd58ef0257/params/use_multiprocessing\n",
            " create mode 100644 mlruns/1/69a69ec7355f4778982e5bbd58ef0257/params/validation size\n",
            " create mode 100644 mlruns/1/69a69ec7355f4778982e5bbd58ef0257/params/validation_batch_size\n",
            " create mode 100644 mlruns/1/69a69ec7355f4778982e5bbd58ef0257/params/validation_freq\n",
            " create mode 100644 mlruns/1/69a69ec7355f4778982e5bbd58ef0257/params/validation_split\n",
            " create mode 100644 mlruns/1/69a69ec7355f4778982e5bbd58ef0257/params/validation_steps\n",
            " create mode 100644 mlruns/1/69a69ec7355f4778982e5bbd58ef0257/params/workers\n",
            " create mode 100644 mlruns/1/69a69ec7355f4778982e5bbd58ef0257/tags/mlflow.log-model.history\n",
            " create mode 100644 mlruns/1/69a69ec7355f4778982e5bbd58ef0257/tags/mlflow.runName\n",
            " create mode 100644 mlruns/1/69a69ec7355f4778982e5bbd58ef0257/tags/mlflow.source.git.commit\n",
            " create mode 100644 mlruns/1/69a69ec7355f4778982e5bbd58ef0257/tags/mlflow.source.name\n",
            " create mode 100644 mlruns/1/69a69ec7355f4778982e5bbd58ef0257/tags/mlflow.source.type\n",
            " create mode 100644 mlruns/1/69a69ec7355f4778982e5bbd58ef0257/tags/mlflow.user\n",
            " create mode 100644 mlruns/1/ff37f3c43ce740df80452632fad14299/artifacts/model/MLmodel\n",
            " create mode 100644 mlruns/1/ff37f3c43ce740df80452632fad14299/artifacts/model/conda.yaml\n",
            " create mode 100644 mlruns/1/ff37f3c43ce740df80452632fad14299/artifacts/model/data/keras_module.txt\n",
            " create mode 100644 mlruns/1/ff37f3c43ce740df80452632fad14299/artifacts/model/data/model/keras_metadata.pb\n",
            " create mode 100644 mlruns/1/ff37f3c43ce740df80452632fad14299/artifacts/model/data/model/saved_model.pb\n",
            " create mode 100644 mlruns/1/ff37f3c43ce740df80452632fad14299/artifacts/model/data/model/variables/variables.data-00000-of-00001\n",
            " create mode 100644 mlruns/1/ff37f3c43ce740df80452632fad14299/artifacts/model/data/model/variables/variables.index\n",
            " create mode 100644 mlruns/1/ff37f3c43ce740df80452632fad14299/artifacts/model/data/save_format.txt\n",
            " create mode 100644 mlruns/1/ff37f3c43ce740df80452632fad14299/artifacts/model/requirements.txt\n",
            " create mode 100644 mlruns/1/ff37f3c43ce740df80452632fad14299/artifacts/model_summary.txt\n",
            " create mode 100644 mlruns/1/ff37f3c43ce740df80452632fad14299/meta.yaml\n",
            " create mode 100644 mlruns/1/ff37f3c43ce740df80452632fad14299/metrics/accuracy\n",
            " create mode 100644 mlruns/1/ff37f3c43ce740df80452632fad14299/metrics/loss\n",
            " create mode 100644 mlruns/1/ff37f3c43ce740df80452632fad14299/metrics/mae\n",
            " create mode 100644 mlruns/1/ff37f3c43ce740df80452632fad14299/metrics/stopped_epoch\n",
            " create mode 100644 mlruns/1/ff37f3c43ce740df80452632fad14299/metrics/val_accuracy\n",
            " create mode 100644 mlruns/1/ff37f3c43ce740df80452632fad14299/metrics/val_loss\n",
            " create mode 100644 mlruns/1/ff37f3c43ce740df80452632fad14299/metrics/val_mae\n",
            " create mode 100644 mlruns/1/ff37f3c43ce740df80452632fad14299/params/baseline\n",
            " create mode 100644 mlruns/1/ff37f3c43ce740df80452632fad14299/params/batch_size\n",
            " create mode 100644 mlruns/1/ff37f3c43ce740df80452632fad14299/params/class_weight\n",
            " create mode 100644 mlruns/1/ff37f3c43ce740df80452632fad14299/params/epochs\n",
            " create mode 100644 mlruns/1/ff37f3c43ce740df80452632fad14299/params/epsilon\n",
            " create mode 100644 mlruns/1/ff37f3c43ce740df80452632fad14299/params/initial_epoch\n",
            " create mode 100644 mlruns/1/ff37f3c43ce740df80452632fad14299/params/learning_rate\n",
            " create mode 100644 mlruns/1/ff37f3c43ce740df80452632fad14299/params/max_queue_size\n",
            " create mode 100644 mlruns/1/ff37f3c43ce740df80452632fad14299/params/min_delta\n",
            " create mode 100644 mlruns/1/ff37f3c43ce740df80452632fad14299/params/monitor\n",
            " create mode 100644 mlruns/1/ff37f3c43ce740df80452632fad14299/params/num_layers\n",
            " create mode 100644 mlruns/1/ff37f3c43ce740df80452632fad14299/params/numpy seed\n",
            " create mode 100644 mlruns/1/ff37f3c43ce740df80452632fad14299/params/optimizer_name\n",
            " create mode 100644 mlruns/1/ff37f3c43ce740df80452632fad14299/params/patience\n",
            " create mode 100644 mlruns/1/ff37f3c43ce740df80452632fad14299/params/restore_best_weights\n",
            " create mode 100644 mlruns/1/ff37f3c43ce740df80452632fad14299/params/sample_weight\n",
            " create mode 100644 mlruns/1/ff37f3c43ce740df80452632fad14299/params/shuffle\n",
            " create mode 100644 mlruns/1/ff37f3c43ce740df80452632fad14299/params/steps_per_epoch\n",
            " create mode 100644 mlruns/1/ff37f3c43ce740df80452632fad14299/params/use_multiprocessing\n",
            " create mode 100644 mlruns/1/ff37f3c43ce740df80452632fad14299/params/validation size\n",
            " create mode 100644 mlruns/1/ff37f3c43ce740df80452632fad14299/params/validation_batch_size\n",
            " create mode 100644 mlruns/1/ff37f3c43ce740df80452632fad14299/params/validation_freq\n",
            " create mode 100644 mlruns/1/ff37f3c43ce740df80452632fad14299/params/validation_split\n",
            " create mode 100644 mlruns/1/ff37f3c43ce740df80452632fad14299/params/validation_steps\n",
            " create mode 100644 mlruns/1/ff37f3c43ce740df80452632fad14299/params/workers\n",
            " create mode 100644 mlruns/1/ff37f3c43ce740df80452632fad14299/tags/mlflow.log-model.history\n",
            " create mode 100644 mlruns/1/ff37f3c43ce740df80452632fad14299/tags/mlflow.runName\n",
            " create mode 100644 mlruns/1/ff37f3c43ce740df80452632fad14299/tags/mlflow.source.git.commit\n",
            " create mode 100644 mlruns/1/ff37f3c43ce740df80452632fad14299/tags/mlflow.source.name\n",
            " create mode 100644 mlruns/1/ff37f3c43ce740df80452632fad14299/tags/mlflow.source.type\n",
            " create mode 100644 mlruns/1/ff37f3c43ce740df80452632fad14299/tags/mlflow.user\n",
            " create mode 100644 mlruns/1/meta.yaml\n"
          ]
        }
      ]
    },
    {
      "cell_type": "code",
      "source": [
        "html = f\"https://{config_github[\"token\"]}@github.com/{config_github[\"username\"]}/{repository_name}.git\"\n",
        "!git remote set-url origin {html}\n",
        "!git push origin {branch_name}"
      ],
      "metadata": {
        "colab": {
          "base_uri": "https://localhost:8080/"
        },
        "id": "zaqRuRjci3zR",
        "outputId": "d7ccc571-c9f6-4b1f-95d4-19a40fb813de"
      },
      "execution_count": null,
      "outputs": [
        {
          "output_type": "stream",
          "name": "stdout",
          "text": [
            "Counting objects: 80, done.\n",
            "Delta compression using up to 2 threads.\n",
            "Compressing objects: 100% (53/53), done.\n",
            "Writing objects: 100% (80/80), 5.33 MiB | 8.22 MiB/s, done.\n",
            "Total 80 (delta 8), reused 0 (delta 0)\n",
            "remote: Resolving deltas: 100% (8/8), done.\u001b[K\n",
            "To https://github.com/ksk0629/template_with_mlflow.git\n",
            "   65396e5..f8e74fc  develop -> develop\n"
          ]
        }
      ]
    },
    {
      "cell_type": "code",
      "source": [
        ""
      ],
      "metadata": {
        "id": "JoOTNQXgog3H"
      },
      "execution_count": null,
      "outputs": []
    }
  ]
}