{
  "cells": [
    {
      "cell_type": "markdown",
      "metadata": {
        "id": "view-in-github",
        "colab_type": "text"
      },
      "source": [
        "<a href=\"https://colab.research.google.com/github/ksk0629/template_with_mlflow/blob/refactoring/template_with_mlflow.ipynb\" target=\"_parent\"><img src=\"https://colab.research.google.com/assets/colab-badge.svg\" alt=\"Open In Colab\"/></a>"
      ]
    },
    {
      "cell_type": "markdown",
      "metadata": {
        "id": "aQcyI0By8EwS"
      },
      "source": [
        "# Template with mlflow\n",
        "- References\n",
        "  - https://fight-tsk.blogspot.com/2021/07/mlflow-ui-google-colaboratory.html\n",
        "  - https://qiita.com/Suguru_Toyohara/items/fd495516237b0b395768\n",
        "  - https://ymym3412.hatenablog.com/entry/2020/02/09/034644\n",
        "  - https://tmyoda.hatenablog.com/entry/20210422/1619085282\n",
        "  - https://qiita.com/mininobu/items/b45dbc70faedf30f484e\n",
        "  - https://qiita.com/Suguru_Toyohara/items/fd495516237b0b395768\n",
        "  - https://stackoverflow.com/questions/61615818/setting-up-mlflow-on-google-colab\n",
        "  - https://qiita.com/kurilab/items/f6f4374d7b1980060de7\n",
        "  - https://stackoverflow.com/questions/61424599/error-when-pushing-files-to-git-in-colab-fatal-could-not-read-username-for-ht"
      ]
    },
    {
      "cell_type": "code",
      "execution_count": null,
      "metadata": {
        "id": "S-mM-gkLEU3V"
      },
      "outputs": [],
      "source": [
        "# Install mlflow and tool for using mlflow on google colabratory notebook\n",
        "!pip install mlflow\n",
        "!pip install pyngrok"
      ]
    },
    {
      "cell_type": "code",
      "execution_count": null,
      "metadata": {
        "id": "0QEPmCgnETcZ"
      },
      "outputs": [],
      "source": [
        "import os\n",
        "from pyngrok import ngrok\n",
        "import yaml"
      ]
    },
    {
      "cell_type": "markdown",
      "metadata": {
        "id": "kb5hg0BTD8sD"
      },
      "source": [
        "## Building my cosy environment"
      ]
    },
    {
      "cell_type": "code",
      "execution_count": null,
      "metadata": {
        "id": "rubYSBpc_J7m"
      },
      "outputs": [],
      "source": [
        "# Mount my google drive\n",
        "from google.colab import drive\n",
        "drive_path = \"/content/gdrive\"\n",
        "drive.mount(drive_path)"
      ]
    },
    {
      "cell_type": "code",
      "execution_count": null,
      "metadata": {
        "id": "U6_srhIJDjsa"
      },
      "outputs": [],
      "source": [
        "# Load the general config\n",
        "config_path = os.path.join(drive_path, \"MyDrive\", \"config\", \"general_config.yaml\")\n",
        "with open(config_path, 'r') as yml:\n",
        "  config = yaml.safe_load(yml)\n",
        "\n",
        "config_github = config[\"github\"]\n",
        "config_ngrok = config[\"ngrok\"]"
      ]
    },
    {
      "cell_type": "code",
      "execution_count": null,
      "metadata": {
        "id": "96Nsau27DgrT"
      },
      "outputs": [],
      "source": [
        "# Set git configs\n",
        "!git config --global user.email {config_github[\"email\"]}\n",
        "!git config --global user.name {config_github[\"username\"]}\n",
        "\n",
        "# Clone the repository\n",
        "repository_name = \"template_with_mlflow\"\n",
        "git_repository = f\"https://github.com/ksk0629/\" + repository_name + \".git\"\n",
        "repository_path = \"/content/\" + repository_name\n",
        "!git clone {git_repository}\n",
        "\n",
        "# Change the current directory to the cloned directory\n",
        "%cd {repository_name}"
      ]
    },
    {
      "cell_type": "code",
      "execution_count": null,
      "metadata": {
        "id": "g1a3kZbrSyBn"
      },
      "outputs": [],
      "source": [
        "# Checkout branch\n",
        "branch_name = \"main\"\n",
        "!git checkout {branch_name}"
      ]
    },
    {
      "cell_type": "code",
      "execution_count": null,
      "metadata": {
        "id": "gOo05lwqT3Vz"
      },
      "outputs": [],
      "source": [
        "# Pull\n",
        "!git pull"
      ]
    },
    {
      "cell_type": "markdown",
      "metadata": {
        "id": "Go8FD44hE8E6"
      },
      "source": [
        "## Run program with MLflow"
      ]
    },
    {
      "cell_type": "code",
      "execution_count": null,
      "metadata": {
        "id": "l1aTzuHkTMv1"
      },
      "outputs": [],
      "source": [
        "experiment_name = \"mnist with cnn\"\n",
        "run_name = \"first run\"\n",
        "validation_size = 0.2\n",
        "epochs = 1000\n",
        "batch_size = 2048\n",
        "n_features = 784\n",
        "n_hidden = 100\n",
        "learning_rate = 0.01\n",
        "seed = 57\n",
        "\n",
        "!python ./src/mlflow_example.py \"{experiment_name}\" \"{run_name}\" {seed} {validation_size} {n_hidden} {n_features} {epochs} {batch_size} {learning_rate}"
      ]
    },
    {
      "cell_type": "code",
      "execution_count": null,
      "metadata": {
        "id": "kw_ZUVgATTk2"
      },
      "outputs": [],
      "source": [
        "experiment_name = \"mnist with cnn\"\n",
        "run_name = \"second run\"\n",
        "validation_size = 0.2\n",
        "epochs = 1000\n",
        "batch_size = 2048\n",
        "n_features = 784\n",
        "n_hidden = 300\n",
        "learning_rate = 0.01\n",
        "seed = 57\n",
        "\n",
        "!python ./src/mlflow_example.py \"{experiment_name}\" \"{run_name}\" {seed} {validation_size} {n_hidden} {n_features} {epochs} {batch_size} {learning_rate}"
      ]
    },
    {
      "cell_type": "markdown",
      "metadata": {
        "id": "rTX-PE9zXoA5"
      },
      "source": [
        "## Run mlflow"
      ]
    },
    {
      "cell_type": "code",
      "execution_count": null,
      "metadata": {
        "id": "H-yRNGlQZN87"
      },
      "outputs": [],
      "source": [
        "# Run mlflow\n",
        "get_ipython().system_raw(\"mlflow ui --port 5000 &\") # run tracking UI in the background\n",
        "\n",
        "# Terminate open tunnels if exist\n",
        "ngrok.kill()\n",
        "\n",
        "# Setting the authtoken of ngrok\n",
        "ngrok.set_auth_token(config_ngrok[\"token\"])\n",
        "\n",
        "# Open an HTTPs tunnel on port 5000 for http://localhost:5000\n",
        "ngrok_tunnel = ngrok.connect(addr=\"5000\", proto=\"http\", bind_tls=True)\n",
        "print(\"MLflow Tracking UI:\", ngrok_tunnel.public_url)"
      ]
    },
    {
      "cell_type": "markdown",
      "metadata": {
        "id": "tenuUHK0diR4"
      },
      "source": [
        "## Commit and push new change"
      ]
    },
    {
      "cell_type": "code",
      "execution_count": null,
      "metadata": {
        "id": "x4pJ2JlDfqZs"
      },
      "outputs": [],
      "source": [
        "# add_objects = os.path.join(repository_path, \"mlruns\", \"*\")\n",
        "# !git add {add_objects}"
      ]
    },
    {
      "cell_type": "code",
      "execution_count": null,
      "metadata": {
        "id": "9AUdQwcBiTWM"
      },
      "outputs": [],
      "source": [
        "# commit_msg = \"Add new mlruns\"\n",
        "# !git commit -m \"{commit_msg}\""
      ]
    },
    {
      "cell_type": "code",
      "execution_count": null,
      "metadata": {
        "id": "zaqRuRjci3zR"
      },
      "outputs": [],
      "source": [
        "# html = f\"https://{config_github['token']}@github.com/{config_github['username']}/{repository_name}.git\"\n",
        "# !git remote set-url origin {html}\n",
        "# !git push origin {branch_name}"
      ]
    },
    {
      "cell_type": "code",
      "execution_count": null,
      "metadata": {
        "id": "JoOTNQXgog3H"
      },
      "outputs": [],
      "source": [
        ""
      ]
    }
  ],
  "metadata": {
    "accelerator": "GPU",
    "colab": {
      "collapsed_sections": [],
      "name": "template_with_mlflow.ipynb",
      "provenance": [],
      "private_outputs": true,
      "include_colab_link": true
    },
    "kernelspec": {
      "display_name": "Python 3",
      "name": "python3"
    },
    "language_info": {
      "name": "python"
    }
  },
  "nbformat": 4,
  "nbformat_minor": 0
}